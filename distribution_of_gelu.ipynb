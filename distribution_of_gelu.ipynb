{
 "cells": [
  {
   "cell_type": "code",
   "execution_count": 7,
   "metadata": {},
   "outputs": [
    {
     "name": "stdout",
     "output_type": "stream",
     "text": [
      "tensor(-0.1700, device='cuda:0') tensor(11.8050, device='cuda:0')\n"
     ]
    },
    {
     "data": {
      "image/png": "[encoded data removed]",
      "text/plain": [
       "<Figure size 640x480 with 1 Axes>"
      ]
     },
     "metadata": {},
     "output_type": "display_data"
    }
   ],
   "source": [
    "import torch\n",
    "\n",
    "import matplotlib.pyplot as plt\n",
    "\n",
    "# .pt 파일 불러오기\n",
    "tensor = torch.load('x.pt')\n",
    "print(tensor.min(), tensor.max())\n",
    "# 텐서를 numpy 배열로 변환\n",
    "tensor_np = tensor.cpu().numpy()\n",
    "plt.hist(tensor_np.flatten(), bins=300)\n",
    "plt.title('Histogram of Tensor Values')\n",
    "plt.xlabel('Value')\n",
    "plt.yscale('log')\n",
    "plt.ylabel('Frequency')\n",
    "plt.show()"
   ]
  },
  {
   "cell_type": "code",
   "execution_count": 4,
   "metadata": {},
   "outputs": [
    {
     "name": "stdout",
     "output_type": "stream",
     "text": [
      "tensor([    0,     1,     2,  ..., 32765, 32766, 32767])\n",
      "tensor([-99999,      0,      1,  ...,     14,     14,     14])\n",
      "tensor([-999990,       5,      10,      15,      20,      25,      30,      35,\n",
      "             40,      45,      50,      55,      60,      65,      70,      75,\n",
      "             80,      85,      90,      95,     100,     105,     110,     115,\n",
      "            120,     125,     130,     135,     140,     145])\n"
     ]
    }
   ],
   "source": [
    "def bitLog2Single( x):\n",
    "    # 1. mask 0\n",
    "    zeromask = x == 0\n",
    "    # 2. get bit length - 1 (same as the bit length for representation)\n",
    "    for i in torch.arange(0, 16):\n",
    "        x = torch.where(x.bitwise_right_shift(i) == 1, i, x)\n",
    "    # 3. -inf\n",
    "    x[zeromask] = -99999\n",
    "    x_q = x.clone().detach()\n",
    "    # 4. dequantize\n",
    "    x_dq = 2**x\n",
    "    x_dq[zeromask] = 0\n",
    "\n",
    "    return x_q, x_dq\n",
    "\n",
    "def bitLog2Half(x):\n",
    "    # 1. get log2(x)\n",
    "    x_q, _ = bitLog2Single(x)\n",
    "\n",
    "    def bitLog2Half_quant(x, x_q):\n",
    "        # 2. get the mask for 1 (1 is 0.5)\n",
    "        one_mask_half = x == 1\n",
    "        # 3. get the half value\n",
    "        x_temp = torch.where(\n",
    "            x.bitwise_right_shift(x_q - 1).bitwise_and(1) == 1, 5, 0\n",
    "        )\n",
    "        # 4. 1 is 0.5\n",
    "        x_temp[one_mask_half] = 5\n",
    "        # 5. get the quantized value (int_part * 10 + frac_part)\n",
    "        x_q_half = x_q * 10 + x_temp\n",
    "        return x_q_half\n",
    "\n",
    "    def bitLog2Half_dequant(x_q_half):\n",
    "        # 1. get the mask for 0\n",
    "        zero_mask = x_q_half == 0\n",
    "        # 2. get the int part and frac part\n",
    "        int_part = x_q_half // 10\n",
    "        frac_part = x_q_half % 10 / 5\n",
    "        _one = torch.ones_like(int_part)\n",
    "        # 3. get the dequantized value\n",
    "        int_num = _one.bitwise_left_shift(int_part)\n",
    "        frac_num = frac_part * _one.bitwise_left_shift(int_part - 1)\n",
    "        x_dq_half = int_num + frac_num\n",
    "        x_dq_half[zero_mask] = 0\n",
    "\n",
    "        return x_dq_half\n",
    "\n",
    "    x_q_half = bitLog2Half_quant(x, x_q)\n",
    "    x_dq_half = bitLog2Half_dequant(x_q_half)\n",
    "\n",
    "    return x_q_half, x_dq_half\n",
    "\n",
    "x = torch.arange(0, 32768)\n",
    "print(x)\n",
    "x_q, x_dq = bitLog2Single(x)\n",
    "print(x_q)\n",
    "x_q_half, x_dq_half = bitLog2Half(x)\n",
    "print(x_q_half.unique())"
   ]
  },
  {
   "cell_type": "code",
   "execution_count": 5,
   "metadata": {},
   "outputs": [
    {
     "name": "stdout",
     "output_type": "stream",
     "text": [
      "16 tensor([-9999900,       10,      100,      110,      200,      201,      210,\n",
      "             211,      300,      301,      310,      311,      400,      401,\n",
      "             410,      411])\n",
      "16 tensor([ 0,  1,  2,  3,  4,  5,  6,  7,  8, 10, 12, 14, 16, 20, 24, 28])\n",
      "tensor(0) tensor(-9999900) tensor(0)\n",
      "tensor(1) tensor(10) tensor(1)\n",
      "tensor(2) tensor(100) tensor(2)\n",
      "tensor(3) tensor(110) tensor(3)\n",
      "tensor(4) tensor(200) tensor(4)\n",
      "tensor(5) tensor(201) tensor(5)\n",
      "tensor(6) tensor(210) tensor(6)\n",
      "tensor(7) tensor(211) tensor(7)\n",
      "tensor(8) tensor(300) tensor(8)\n",
      "tensor(9) tensor(300) tensor(8)\n",
      "tensor(10) tensor(301) tensor(10)\n",
      "tensor(11) tensor(301) tensor(10)\n",
      "tensor(12) tensor(310) tensor(12)\n",
      "tensor(13) tensor(310) tensor(12)\n",
      "tensor(14) tensor(311) tensor(14)\n",
      "tensor(15) tensor(311) tensor(14)\n",
      "tensor(16) tensor(400) tensor(16)\n",
      "tensor(17) tensor(400) tensor(16)\n",
      "tensor(18) tensor(400) tensor(16)\n",
      "tensor(19) tensor(400) tensor(16)\n",
      "tensor(20) tensor(401) tensor(20)\n",
      "tensor(21) tensor(401) tensor(20)\n",
      "tensor(22) tensor(401) tensor(20)\n",
      "tensor(23) tensor(401) tensor(20)\n",
      "tensor(24) tensor(410) tensor(24)\n",
      "tensor(25) tensor(410) tensor(24)\n",
      "tensor(26) tensor(410) tensor(24)\n",
      "tensor(27) tensor(410) tensor(24)\n",
      "tensor(28) tensor(411) tensor(28)\n",
      "tensor(29) tensor(411) tensor(28)\n",
      "tensor(30) tensor(411) tensor(28)\n",
      "tensor(31) tensor(411) tensor(28)\n"
     ]
    }
   ],
   "source": [
    "def bitLog2Quarter_quant(x, x_q):\n",
    "    # 2. get the mask for 1 (1 is 0.5)\n",
    "    one_mask_half = x == 1\n",
    "    # 3. get the half value\n",
    "    x_temp5 = torch.where(x.bitwise_right_shift(x_q - 1).bitwise_and(1) == 1, 1, 0)\n",
    "    x_temp1 = torch.where(x.bitwise_right_shift(x_q - 2).bitwise_and(1) == 1, 1, 0)\n",
    "    # 4. 1 is 0.5\n",
    "    x_temp5[one_mask_half] = 1\n",
    "    # 5. get the quantized value (int_part * 10 + frac_part)\n",
    "    x_q_half = x_q * 100 + x_temp5*10 + x_temp1\n",
    "    return x_q_half\n",
    "\n",
    "def bitLog2Quarter_dequant(x_q_half):\n",
    "    # 1. get the mask for 0\n",
    "    zero_mask = x_q_half == 0\n",
    "    # 2. get the int part and frac part\n",
    "    int_part = x_q_half // 100\n",
    "    frac_part5 = x_q_half % 100 // 10\n",
    "    frac_part1 = x_q_half % 100 % 10 // 1     \n",
    "    _one = torch.ones_like(int_part)\n",
    "    # 3. get the dequantized value\n",
    "    int_num = _one.bitwise_left_shift(int_part)\n",
    "    frac_num5 = frac_part5 * _one.bitwise_left_shift(int_part - 1)\n",
    "    frac_num1 = frac_part1 * _one.bitwise_left_shift(int_part - 2)\n",
    "    x_dq_half = int_num + frac_num5 + frac_num1\n",
    "    x_dq_half[zero_mask] = 0\n",
    "\n",
    "    return x_dq_half\n",
    "\n",
    "x = torch.arange(0, 32)\n",
    "x_q, _ = bitLog2Single(x)\n",
    "x_q_quarter = bitLog2Quarter_quant(x, x_q)\n",
    "print(x_q_quarter.unique().numel(), x_q_quarter.unique())\n",
    "x_dq_quarter = bitLog2Quarter_dequant(x_q_quarter)\n",
    "print(x_dq_quarter.unique().numel(), x_dq_quarter.unique())\n",
    "\n",
    "for dja, wns, tlr in zip(x, x_q_quarter, x_dq_quarter):\n",
    "    print(dja, wns, tlr)"
   ]
  },
  {
   "cell_type": "code",
   "execution_count": 6,
   "metadata": {},
   "outputs": [
    {
     "name": "stdout",
     "output_type": "stream",
     "text": [
      "tensor(0) tensor(31)\n",
      "tensor(2.4029e-06, device='cuda:0') tensor(1., device='cuda:0') 1054110\n",
      "16 tensor([-9999900,       10,      100,      110,      200,      201,      210,\n",
      "             211,      300,      301,      310,      311,      400,      401,\n",
      "             410,      411], device='cuda:0')\n",
      "16 tensor([ 0,  1,  2,  3,  4,  5,  6,  7,  8, 10, 12, 14, 16, 20, 24, 28],\n",
      "       device='cuda:0')\n",
      "16 tensor([-0.1700,  0.2042,  0.5784,  0.9527,  1.3269,  1.7011,  2.0753,  2.4495,\n",
      "         2.8237,  3.5722,  4.3206,  5.0691,  5.8175,  7.3144,  8.8112, 10.3081],\n",
      "       device='cuda:0')\n"
     ]
    },
    {
     "data": {
      "image/png": "[encoded data removed]",
      "text/plain": [
       "<Figure size 640x480 with 1 Axes>"
      ]
     },
     "metadata": {},
     "output_type": "display_data"
    }
   ],
   "source": [
    "org_x = torch.load(\"x.pt\")\n",
    "print(x.min(), x.max())\n",
    "x = org_x.clone()\n",
    "\n",
    "x = x + 0.17\n",
    "x_max = x.max()\n",
    "x = (x / x_max)\n",
    "print(x.min(), x.max(), x.unique().numel())\n",
    "\n",
    "x = (x * 32).floor().int().clip(0, 31)\n",
    "x_q, _ = bitLog2Single(x)\n",
    "x_q_quarter = bitLog2Quarter_quant(x, x_q)\n",
    "print(x_q_quarter.unique().numel(), x_q_quarter.unique())\n",
    "x_dq_quarter = bitLog2Quarter_dequant(x_q_quarter)\n",
    "print(x_dq_quarter.unique().numel(), x_dq_quarter.unique())\n",
    "x_dq_quarter = x_dq_quarter / 32\n",
    "\n",
    "x_dq_quarter = x_dq_quarter.float() * x_max\n",
    "\n",
    "x_dq_quarter = x_dq_quarter - 0.17\n",
    "print(x_dq_quarter.unique().numel(), x_dq_quarter.unique())\n",
    "plt.hist(org_x.flatten().cpu().numpy(), bins=300)\n",
    "plt.hist(x_dq_quarter.flatten().cpu().numpy(), bins=300)\n",
    "plt.title(\"Histogram of Tensor Values with BitLog2Quarter\")\n",
    "plt.xlabel(\"Value\")\n",
    "plt.yscale(\"log\")\n",
    "plt.ylabel(\"Frequency\")\n",
    "plt.show()"
   ]
  },
  {
   "cell_type": "code",
   "execution_count": null,
   "metadata": {},
   "outputs": [],
   "source": []
  }
 ],
 "metadata": {
  "kernelspec": {
   "display_name": "py312",
   "language": "python",
   "name": "python3"
  },
  "language_info": {
   "codemirror_mode": {
    "name": "ipython",
    "version": 3
   },
   "file_extension": ".py",
   "mimetype": "text/x-python",
   "name": "python",
   "nbconvert_exporter": "python",
   "pygments_lexer": "ipython3",
   "version": "3.12.1"
  }
 },
 "nbformat": 4,
 "nbformat_minor": 2
}
